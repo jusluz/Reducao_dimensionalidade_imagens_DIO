{
  "nbformat": 4,
  "nbformat_minor": 0,
  "metadata": {
    "colab": {
      "provenance": []
    },
    "kernelspec": {
      "name": "python3",
      "display_name": "Python 3"
    },
    "language_info": {
      "name": "python"
    }
  },
  "cells": [
    {
      "cell_type": "code",
      "source": [
        "from PIL import Image\n",
        "import numpy as np\n",
        "\n",
        "# Carregar imagem colorida\n",
        "color_img = Image.open(\"input.jpg\")\n",
        "color_array = np.array(color_img)\n",
        "\n",
        "# Converter para tons de cinza (fórmula NTSC)\n",
        "gray_array = np.dot(color_array[..., :3], [0.299, 0.587, 0.114]).astype(np.uint8)\n",
        "\n",
        "# Salvar imagem em tons de cinza\n",
        "gray_img = Image.fromarray(gray_array)\n",
        "gray_img.save(\"gray_image.jpg\")\n",
        "\n",
        "# Binarização (threshold = 127)\n",
        "binary_array = np.where(gray_array > 127, 255, 0).astype(np.uint8)\n",
        "\n",
        "# Salvar imagem binarizada\n",
        "binary_img = Image.fromarray(binary_array)\n",
        "binary_img.save(\"binary_image.jpg\")"
      ],
      "metadata": {
        "id": "Cf9no8sE_Hma"
      },
      "execution_count": 3,
      "outputs": []
    }
  ]
}